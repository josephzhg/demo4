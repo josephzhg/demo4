{
    "cells": [
        {
            "cell_type": "code",
            "execution_count": 2,
            "metadata": {},
            "outputs": [
                {
                    "name": "stdout",
                    "output_type": "stream",
                    "text": "+---------+-------+--------------------+--------------------+---------------+-----------------+\n|ProductId|StoreId|           StoreName|             Address|   neighborhood|QuantityAvailable|\n+---------+-------+--------------------+--------------------+---------------+-----------------+\n|        1|  85123|     National Stores|  9 Springview Point|    Bolton Hill|               11|\n|        2|  71053|       Family Dollar| 5434 Daystar Circle|      Ashburton|                1|\n|        3|  84406| BJ's Wholesale Club|      3 Darwin Drive|   Morrell Park|               11|\n|        4|  84029| Ocean State Job Lot|    684 Bunting Lane|    Fells Point|                1|\n|        5|  37444|Ollie's Bargain O...|50162 John Wall D...|Charles Village|                3|\n+---------+-------+--------------------+--------------------+---------------+-----------------+\nonly showing top 5 rows\n\n"
                },
                {
                    "data": {
                        "text/plain": "configurationName = os_fecc1bd943844300a473b6454d81817b_configs\nendpoint_fecc1bd943844300a473b6454d81817b = https://s3.private.us.cloud-object-storage.appdomain.cloud\ncos = com.ibm.ibmos2spark.CloudObjectStorage@d742831\nspark = org.apache.spark.sql.SparkSession@838c240f\ndfData1 = [ProductId: int, StoreId: int ... 4 more fields]\n"
                    },
                    "metadata": {},
                    "output_type": "display_data"
                },
                {
                    "data": {
                        "text/plain": "getCredentials: ()scala.collection.mutable.HashMap[String,String]\n"
                    },
                    "metadata": {},
                    "output_type": "display_data"
                },
                {
                    "data": {
                        "text/plain": "[ProductId: int, StoreId: int ... 4 more fields]"
                    },
                    "execution_count": 2,
                    "metadata": {},
                    "output_type": "execute_result"
                }
            ],
            "source": "// The code was removed by Watson Studio for sharing."
        },
        {
            "cell_type": "code",
            "execution_count": null,
            "metadata": {},
            "outputs": [],
            "source": ""
        }
    ],
    "metadata": {
        "kernelspec": {
            "display_name": "Scala 2.12 with Spark",
            "language": "scala",
            "name": "scala"
        },
        "language_info": {
            "codemirror_mode": "text/x-scala",
            "file_extension": ".scala",
            "mimetype": "text/x-scala",
            "name": "scala",
            "pygments_lexer": "scala",
            "version": "2.12.12"
        }
    },
    "nbformat": 4,
    "nbformat_minor": 1
}